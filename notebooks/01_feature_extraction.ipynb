{
  "nbformat": 4,
  "nbformat_minor": 0,
  "metadata": {
    "colab": {
      "provenance": [],
      "toc_visible": true,
      "authorship_tag": "ABX9TyOvkzxZjpQVvSF17l17cfSL",
      "include_colab_link": true
    },
    "kernelspec": {
      "name": "python3",
      "display_name": "Python 3"
    },
    "language_info": {
      "name": "python"
    }
  },
  "cells": [
    {
      "cell_type": "markdown",
      "metadata": {
        "id": "view-in-github",
        "colab_type": "text"
      },
      "source": [
        "<a href=\"https://colab.research.google.com/github/maecyntha/ai-classical-music-detector/blob/main/01_feature_extraction.ipynb\" target=\"_parent\"><img src=\"https://colab.research.google.com/assets/colab-badge.svg\" alt=\"Open In Colab\"/></a>"
      ]
    },
    {
      "cell_type": "code",
      "execution_count": 1,
      "metadata": {
        "colab": {
          "base_uri": "https://localhost:8080/"
        },
        "id": "Vb7_njNwtdJo",
        "outputId": "82f08b09-3c37-4308-b280-38fd9599f143"
      },
      "outputs": [
        {
          "output_type": "stream",
          "name": "stdout",
          "text": [
            "Collecting pretty_midi\n",
            "  Downloading pretty_midi-0.2.10.tar.gz (5.6 MB)\n",
            "\u001b[2K     \u001b[90m━━━━━━━━━━━━━━━━━━━━━━━━━━━━━━━━━━━━━━━━\u001b[0m \u001b[32m5.6/5.6 MB\u001b[0m \u001b[31m21.7 MB/s\u001b[0m eta \u001b[36m0:00:00\u001b[0m\n",
            "\u001b[?25h  Preparing metadata (setup.py) ... \u001b[?25l\u001b[?25hdone\n",
            "Requirement already satisfied: numpy>=1.7.0 in /usr/local/lib/python3.11/dist-packages (from pretty_midi) (2.0.2)\n",
            "Collecting mido>=1.1.16 (from pretty_midi)\n",
            "  Downloading mido-1.3.3-py3-none-any.whl.metadata (6.4 kB)\n",
            "Requirement already satisfied: six in /usr/local/lib/python3.11/dist-packages (from pretty_midi) (1.17.0)\n",
            "Requirement already satisfied: packaging in /usr/local/lib/python3.11/dist-packages (from mido>=1.1.16->pretty_midi) (24.2)\n",
            "Downloading mido-1.3.3-py3-none-any.whl (54 kB)\n",
            "\u001b[2K   \u001b[90m━━━━━━━━━━━━━━━━━━━━━━━━━━━━━━━━━━━━━━━━\u001b[0m \u001b[32m54.6/54.6 kB\u001b[0m \u001b[31m2.5 MB/s\u001b[0m eta \u001b[36m0:00:00\u001b[0m\n",
            "\u001b[?25hBuilding wheels for collected packages: pretty_midi\n",
            "  Building wheel for pretty_midi (setup.py) ... \u001b[?25l\u001b[?25hdone\n",
            "  Created wheel for pretty_midi: filename=pretty_midi-0.2.10-py3-none-any.whl size=5592286 sha256=4dd23a77cf948b4acf54caa9e00672a992b10877256faeccab65ca2940ece4d3\n",
            "  Stored in directory: /root/.cache/pip/wheels/e6/95/ac/15ceaeb2823b04d8e638fd1495357adb8d26c00ccac9d7782e\n",
            "Successfully built pretty_midi\n",
            "Installing collected packages: mido, pretty_midi\n",
            "Successfully installed mido-1.3.3 pretty_midi-0.2.10\n"
          ]
        }
      ],
      "source": [
        "!pip install pretty_midi"
      ]
    },
    {
      "cell_type": "code",
      "source": [
        "import zipfile\n",
        "import random\n",
        "import pretty_midi\n",
        "import numpy as np\n",
        "import pandas as pd\n",
        "import io\n",
        "import requests\n",
        "import gzip\n",
        "import json"
      ],
      "metadata": {
        "id": "QO38hhgCtiFJ"
      },
      "execution_count": 2,
      "outputs": []
    },
    {
      "cell_type": "markdown",
      "source": [
        "## Additional Processes"
      ],
      "metadata": {
        "id": "UlQRDtBox6J5"
      }
    },
    {
      "cell_type": "code",
      "source": [
        "def get_target_instrument(midi_data):\n",
        "  \"\"\"Pick the main instrument from the MIDI:\n",
        "  1. Piano (program 0) if exists\n",
        "  2. If it doesn't exists, choose instrument with the higheset number of notes\n",
        "  \"\"\"\n",
        "  instruments = [inst for inst in midi_data.instruments if not inst.is_drum]\n",
        "\n",
        "  piano_instruments = [inst for inst in instruments if inst.program == 0]\n",
        "  if piano_instruments:\n",
        "      return piano_instruments[0]\n",
        "\n",
        "  if instruments:\n",
        "      return max(instruments, key=lambda inst: len(inst.notes))\n",
        "\n",
        "  return None"
      ],
      "metadata": {
        "id": "4AVAVV3Rtjg8"
      },
      "execution_count": 3,
      "outputs": []
    },
    {
      "cell_type": "code",
      "source": [
        "def pad_features(features, max_segments, feature_size_per_segment=9):\n",
        "  needed_length = feature_size_per_segment * max_segments\n",
        "  features = np.array(features, dtype=np.float32)\n",
        "\n",
        "  return np.pad(features, (0, max(0, needed_length - len(features))), mode='constant', constant_values=np.nan)"
      ],
      "metadata": {
        "id": "RgDKNl2htzQ5"
      },
      "execution_count": 7,
      "outputs": []
    },
    {
      "cell_type": "code",
      "source": [
        "def repeat_segments_from_start(features, max_segments):\n",
        "  segment_size = 9\n",
        "  num_segments = len(features) // segment_size\n",
        "\n",
        "  if num_segments == 0:\n",
        "    return features\n",
        "\n",
        "  # Reshape to (num_segments, segment_size)\n",
        "  segments = features[:num_segments * segment_size].reshape(num_segments, segment_size)\n",
        "\n",
        "  # Only take segment with valid data\n",
        "  valid_segments = segments[~np.isnan(segments).all(axis=1)]\n",
        "\n",
        "  if len(valid_segments) == 0:\n",
        "    return features  # If all NaN, then return\n",
        "\n",
        "  # Repeat the song until the number of segment is sufficient\n",
        "  repeated_segments = np.tile(valid_segments, (max_segments // len(valid_segments) + 1, 1))[:max_segments]\n",
        "\n",
        "  return repeated_segments.flatten()"
      ],
      "metadata": {
        "id": "CfA9wGQnt3GN"
      },
      "execution_count": 9,
      "outputs": []
    },
    {
      "cell_type": "code",
      "source": [
        "def process_and_combine_datasets(zip_paths=None, jsonl_paths=None, target_segments=None):\n",
        "  all_features, all_expressiveness, all_labels = [], [], []\n",
        "\n",
        "  # Extract from zip\n",
        "  if zip_paths:\n",
        "      for zip_info in zip_paths:\n",
        "          zip_path, label = zip_info\n",
        "          features, labels = extract_features_from_zip(zip_path, label)\n",
        "          all_features.extend(features)\n",
        "          all_labels.extend(labels)\n",
        "\n",
        "  # Extract from jsonl\n",
        "  if jsonl_paths:\n",
        "      for jsonl_info in jsonl_paths:\n",
        "          jsonl_path, label = jsonl_info\n",
        "          features, labels = extract_features_from_jsonl(jsonl_path, label)\n",
        "          all_features.extend(features)\n",
        "          all_labels.extend(labels)\n",
        "\n",
        "  # Padding dan data combining\n",
        "  max_segments = target_segments if target_segments is not None else max(len(features) // 9 for features in all_features)\n",
        "  padded_features = np.array([pad_features(features, max_segments) for features in all_features])\n",
        "\n",
        "  repeated_features = np.array([repeat_segments_from_start(features, max_segments) for features in padded_features])\n",
        "\n",
        "  combined_features = np.hstack([repeated_features])\n",
        "  combined_labels = np.array(all_labels).flatten()\n",
        "\n",
        "  return combined_features, combined_labels"
      ],
      "metadata": {
        "id": "mYyFGB74t0v6"
      },
      "execution_count": 8,
      "outputs": []
    },
    {
      "cell_type": "markdown",
      "source": [
        "## Feature Extraction"
      ],
      "metadata": {
        "id": "osIhVNbpx1gR"
      }
    },
    {
      "cell_type": "code",
      "source": [
        "def extract_features_beat_based(midi_data=None, beats_per_segment=4, isMidi=True, sequence=None):\n",
        "  max_duration = 30 # in seconds\n",
        "\n",
        "  if isMidi:\n",
        "    beat_times = [b for b in midi_data.get_beats() if b <= max_duration]\n",
        "  else:\n",
        "    beat_times = []\n",
        "    for note in sequence.get(\"notes\", []):\n",
        "      start_time = note.get(\"startTime\", 0)\n",
        "      end_time = note[\"endTime\"]\n",
        "      # Add start and end time to beat_times\n",
        "      if start_time <= max_duration:\n",
        "          beat_times.append(start_time)\n",
        "      if end_time <= max_duration:\n",
        "          beat_times.append(end_time)\n",
        "\n",
        "    # Sort dan hilangkan duplikat waktu\n",
        "    beat_times = sorted(set(beat_times))\n",
        "\n",
        "  if not beat_times:\n",
        "    return None, 0\n",
        "\n",
        "  default_padding = np.nan\n",
        "  num_segments = len(beat_times) // beats_per_segment  # Calculate beat-based segment\n",
        "\n",
        "  all_pitches, all_velocities, all_durations = [], [], []\n",
        "\n",
        "  for i in range(num_segments):\n",
        "    segment_start = beat_times[i * beats_per_segment]\n",
        "    segment_end = beat_times[(i + 1) * beats_per_segment - 1] if (i + 1) * beats_per_segment - 1 < len(beat_times) else max_duration\n",
        "\n",
        "    pitches, velocities, durations = [], [], []\n",
        "\n",
        "    if isMidi:\n",
        "      instrument = get_target_instrument(midi_data)\n",
        "      for note in instrument.notes:\n",
        "        if segment_start <= note.start < segment_end:\n",
        "          pitches.append(note.pitch if note.pitch is not None else 0)\n",
        "          velocities.append(note.velocity if note.velocity is not None else 0)\n",
        "          durations.append((note.end - note.start) if (note.end - note.start) is not None else 0)\n",
        "    else:\n",
        "      for note in sequence.get(\"notes\", []):\n",
        "        note[\"startTime\"] = note.get(\"startTime\", 0)\n",
        "        if segment_start <= note[\"startTime\"] < segment_end:\n",
        "          pitches.append(note.get(\"pitch\", 0))\n",
        "          velocities.append(note.get(\"velocity\", 0))\n",
        "          durations.append(note.get(\"endTime\", 0) - note.get(\"startTime\", 0))\n",
        "\n",
        "    # Add padding if data in a segment is insufficient\n",
        "    while len(pitches) < 10:\n",
        "      pitches.append(default_padding)\n",
        "      velocities.append(default_padding)\n",
        "      durations.append(default_padding)\n",
        "\n",
        "    def safe_stat(arr):\n",
        "      if len(arr) == 0 or np.all(np.isnan(arr)):\n",
        "          return 0, 0, 0\n",
        "      return np.nanmean(arr), np.nanmedian(arr), np.nanstd(arr)\n",
        "\n",
        "    pitch_mean, pitch_median, pitch_std = safe_stat(pitches)\n",
        "    velocity_mean, velocity_median, velocity_std = safe_stat(velocities)\n",
        "    duration_mean, duration_median, duration_std = safe_stat(durations)\n",
        "\n",
        "    all_pitches.append([pitch_mean, pitch_median, pitch_std])\n",
        "    all_velocities.append([velocity_mean, velocity_median, velocity_std])\n",
        "    all_durations.append([duration_mean, duration_median, duration_std])\n",
        "\n",
        "  # Combine all features\n",
        "  features = np.array(all_pitches + all_velocities + all_durations).flatten()\n",
        "\n",
        "  return features, num_segments"
      ],
      "metadata": {
        "id": "MxtEExEjtm95"
      },
      "execution_count": 4,
      "outputs": []
    },
    {
      "cell_type": "markdown",
      "source": [
        "### Zipped MIDI"
      ],
      "metadata": {
        "id": "NUK9l0tUyS7i"
      }
    },
    {
      "cell_type": "code",
      "source": [
        "def extract_features_from_zip(zip_path, label):\n",
        "  sample_size = 500\n",
        "  all_features, all_labels, segments_list, expressiveness_list = [], [], [], []\n",
        "\n",
        "  with zipfile.ZipFile(zip_path, 'r') as zip_ref:\n",
        "    midi_files = [f for f in zip_ref.namelist() if f.endswith((\".midi\", \".mid\"))]\n",
        "    selected_files = random.sample(midi_files, min(len(midi_files), sample_size))\n",
        "\n",
        "    for midi_file in selected_files:\n",
        "      try:\n",
        "        with zip_ref.open(midi_file) as file:\n",
        "          midi_data = pretty_midi.PrettyMIDI(io.BytesIO(file.read()))\n",
        "\n",
        "          if midi_data.get_end_time() < 10:\n",
        "            continue  # Skip file with the duration under 10s\n",
        "\n",
        "          features, num_segments = extract_features_beat_based(midi_data=midi_data, isMidi=True)\n",
        "\n",
        "          all_features.append(features)\n",
        "          all_labels.append(label)\n",
        "          segments_list.append(num_segments)\n",
        "      except Exception as e:\n",
        "          print(f\"Error processing {midi_file}: {e}\")\n",
        "\n",
        "  max_segments = max(segments_list, default=0)\n",
        "  feature_size_per_segment = 9\n",
        "\n",
        "  padded_features_list = []\n",
        "  for features in all_features:\n",
        "    features = np.array(features, dtype=np.float32)\n",
        "\n",
        "    needed_length = feature_size_per_segment * max_segments\n",
        "    padded_features = np.pad(features, (0, max(0, needed_length - len(features))), mode='constant', constant_values=np.nan)\n",
        "    padded_features_list.append(padded_features)\n",
        "\n",
        "  return np.array(padded_features_list), np.array(all_labels)"
      ],
      "metadata": {
        "id": "6pa47CQgtnjp"
      },
      "execution_count": 5,
      "outputs": []
    },
    {
      "cell_type": "markdown",
      "source": [
        "### JSONL"
      ],
      "metadata": {
        "id": "NpJrzxO5yXYf"
      }
    },
    {
      "cell_type": "code",
      "source": [
        "def extract_features_from_jsonl(url, label):\n",
        "  sample_size = 1000\n",
        "  features_list, labels, segments_list, expressiveness_list = [], [], [], []\n",
        "\n",
        "  # Download file .gz from URL\n",
        "  response = requests.get(url)\n",
        "  response.raise_for_status()\n",
        "\n",
        "  with gzip.GzipFile(fileobj=io.BytesIO(response.content), mode=\"rb\") as gz_file:\n",
        "    with io.TextIOWrapper(gz_file, encoding=\"utf-8\") as f:  # Decode gzip as texts\n",
        "        lines = f.readlines()\n",
        "\n",
        "  random.shuffle(lines)\n",
        "\n",
        "  for line in lines:\n",
        "    data = json.loads(line)\n",
        "    seq = data[\"input_sequence\"] if label == 0 else data[\"output_sequence\"]\n",
        "\n",
        "    for song in seq:\n",
        "      if len(labels) >= sample_size:\n",
        "        break\n",
        "\n",
        "      if song[\"totalTime\"] < 5:\n",
        "        continue\n",
        "\n",
        "      features, num_segments = extract_features_beat_based(sequence=song, isMidi=False)\n",
        "\n",
        "      if features is not None:\n",
        "        features_list.append(features)\n",
        "        labels.append(label)\n",
        "        segments_list.append(num_segments)\n",
        "\n",
        "    if len(labels) >= sample_size:\n",
        "        break\n",
        "\n",
        "  max_segments = max(segments_list, default=0)\n",
        "  feature_size_per_segment = 9\n",
        "\n",
        "  padded_features_list = []\n",
        "  for features in features_list:\n",
        "    features = np.array(features, dtype=np.float32)\n",
        "\n",
        "    needed_length = feature_size_per_segment * max_segments\n",
        "    padded_features = np.pad(features, (0, max(0, needed_length - len(features))), mode='constant', constant_values=np.nan)\n",
        "    padded_features_list.append(padded_features)\n",
        "\n",
        "  return np.array(padded_features_list), np.array(labels)"
      ],
      "metadata": {
        "id": "XkyhUlkqtypj"
      },
      "execution_count": 6,
      "outputs": []
    },
    {
      "cell_type": "markdown",
      "source": [
        "## Main Code"
      ],
      "metadata": {
        "id": "zpLtP90CyAmZ"
      }
    },
    {
      "cell_type": "code",
      "source": [
        "human_zip = \"bachs.zip\"\n",
        "ai_zip = \"js_fakes_midi.zip\"\n",
        "jsonl_paths_1 = \"https://storage.googleapis.com/magentadata/datasets/bach-doodle/bach-doodle.jsonl-00006-of-00192.gz\"\n",
        "jsonl_paths_2 = \"https://storage.googleapis.com/magentadata/datasets/bach-doodle/bach-doodle.jsonl-00054-of-00192.gz\"\n",
        "\n",
        "# Process data with the predefined label\n",
        "combined_features, combined_labels = process_and_combine_datasets(\n",
        "  zip_paths=[[human_zip, 0], [ai_zip, 1]],\n",
        "  jsonl_paths=[[jsonl_paths_1, 0], [jsonl_paths_1, 1], [jsonl_paths_2, 0], [jsonl_paths_2, 1]],\n",
        "  target_segments=25\n",
        ")\n",
        "\n",
        "num_segments = combined_features.shape[1] // 9\n",
        "\n",
        "columns = []\n",
        "for i in range(num_segments):\n",
        "  columns.extend([\n",
        "    f\"segment_{i}_pitch_mean\", f\"segment_{i}_pitch_median\", f\"segment_{i}_pitch_std\",\n",
        "    f\"segment_{i}_velocity_mean\", f\"segment_{i}_velocity_median\", f\"segment_{i}_velocity_std\",\n",
        "    f\"segment_{i}_duration_mean\", f\"segment_{i}_duration_median\", f\"segment_{i}_duration_std\"\n",
        "  ])\n",
        "\n",
        "# Save data to CSV\n",
        "df = pd.DataFrame(combined_features, columns=columns)\n",
        "df['is_ai'] = combined_labels\n",
        "\n",
        "df = df.sample(frac=1).reset_index(drop=True)\n",
        "df.to_csv(\"repeated.csv\", index=False)"
      ],
      "metadata": {
        "colab": {
          "base_uri": "https://localhost:8080/"
        },
        "id": "Fl8AOr3jt4qQ",
        "outputId": "defb22b6-c574-43f9-d78b-97c844b81756"
      },
      "execution_count": 10,
      "outputs": [
        {
          "output_type": "stream",
          "name": "stderr",
          "text": [
            "/usr/local/lib/python3.11/dist-packages/pretty_midi/pretty_midi.py:100: RuntimeWarning: Tempo, Key or Time signature change events found on non-zero tracks.  This is not a valid type 0 or type 1 MIDI file.  Tempo, Key or Time Signature may be wrong.\n",
            "  warnings.warn(\n"
          ]
        }
      ]
    }
  ]
}