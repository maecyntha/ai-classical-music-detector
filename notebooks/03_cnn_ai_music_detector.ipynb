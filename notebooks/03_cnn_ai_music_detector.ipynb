{
  "cells": [
    {
      "cell_type": "code",
      "execution_count": null,
      "metadata": {
        "id": "BXg0Kvt92kQO"
      },
      "outputs": [],
      "source": [
        "!pip install keras_tuner"
      ]
    },
    {
      "cell_type": "markdown",
      "source": [
        "## Data Pre-Processing"
      ],
      "metadata": {
        "id": "blaLJEmI2n8z"
      }
    },
    {
      "cell_type": "code",
      "source": [
        "import pandas as pd\n",
        "from sklearn.model_selection import train_test_split\n",
        "\n",
        "# Load dataset\n",
        "data = pd.read_csv(\"repeated.csv\")\n",
        "X = data.drop(columns=[\"is_ai\"])\n",
        "y = data[\"is_ai\"]\n",
        "\n",
        "# Split data\n",
        "X_train, X_temp, y_train, y_temp = train_test_split(X, y, test_size=0.3, random_state=42)\n",
        "X_val, X_test, y_val, y_test = train_test_split(X_temp, y_temp, test_size=1/3, random_state=42)\n",
        "\n",
        "print(f\"Train: {X_train.shape}, Validation: {X_val.shape}, Test: {X_test.shape}\")"
      ],
      "metadata": {
        "id": "e0C9-MDp2suJ"
      },
      "execution_count": null,
      "outputs": []
    },
    {
      "cell_type": "code",
      "source": [
        "from sklearn.preprocessing import StandardScaler\n",
        "import numpy as np\n",
        "\n",
        "# Avoid warnings\n",
        "non_constant_features = np.std(X_train, axis=0) > 0  # Cek mana yang punya variance > 0\n",
        "non_constant_features = non_constant_features.to_numpy()  # Ubah ke NumPy array\n",
        "\n",
        "# Check if X_train is Pandas DataFrame\n",
        "if isinstance(X_train, pd.DataFrame):\n",
        "    X_train_selected = X_train.iloc[:, non_constant_features]\n",
        "    X_val_selected = X_val.iloc[:, non_constant_features]\n",
        "    X_test_selected = X_test.iloc[:, non_constant_features]\n",
        "else:\n",
        "    X_train_selected = X_train[:, non_constant_features]\n",
        "    X_val_selected = X_val[:, non_constant_features]\n",
        "    X_test_selected = X_test[:, non_constant_features]\n",
        "\n",
        "# Only Normalize on feature with variation\n",
        "scaler = StandardScaler()\n",
        "\n",
        "X_train_normalized = scaler.fit_transform(X_train_selected)\n",
        "X_val_normalized = scaler.transform(X_val_selected)\n",
        "X_test_normalized = scaler.transform(X_test_selected)\n",
        "\n",
        "num_features_per_segment = 9  # Pitch (3) + Velocity (3) + Duration (3)\n",
        "num_segments = X_train_normalized.shape[1] // num_features_per_segment\n",
        "\n",
        "# Reshape to 3D shape\n",
        "X_train_normalized = X_train_normalized.reshape(X_train_normalized.shape[0], num_segments, num_features_per_segment)\n",
        "X_val_normalized = X_val_normalized.reshape(X_val_normalized.shape[0], num_segments, num_features_per_segment)\n",
        "X_test_normalized = X_test_normalized.reshape(X_test_normalized.shape[0], num_segments, num_features_per_segment)"
      ],
      "metadata": {
        "id": "2oBlVoZb2xAW"
      },
      "execution_count": null,
      "outputs": []
    },
    {
      "cell_type": "markdown",
      "source": [
        "## Model Training"
      ],
      "metadata": {
        "id": "T9P5oHHE2ydK"
      }
    },
    {
      "cell_type": "markdown",
      "source": [
        "### History Logger"
      ],
      "metadata": {
        "id": "RfhriOlf25eM"
      }
    },
    {
      "cell_type": "code",
      "source": [
        "from tensorflow.keras.callbacks import Callback\n",
        "\n",
        "all_histories = {}\n",
        "trial_idx = -1\n",
        "\n",
        "class SaveHistory(Callback):\n",
        "    def on_train_begin(self, logs=None):\n",
        "        global trial_idx\n",
        "        trial_idx += 1\n",
        "\n",
        "        all_histories[trial_idx] = {\n",
        "            \"loss\": [], \"val_loss\": [], \"accuracy\": [], \"val_accuracy\": []\n",
        "        }\n",
        "\n",
        "    def on_epoch_end(self, epoch, logs=None):\n",
        "        logs = logs or {}\n",
        "\n",
        "        all_histories[trial_idx][\"loss\"].append(logs.get(\"loss\", 0))\n",
        "        all_histories[trial_idx][\"val_loss\"].append(logs.get(\"val_loss\", 0))\n",
        "        all_histories[trial_idx][\"accuracy\"].append(logs.get(\"accuracy\", 0))\n",
        "        all_histories[trial_idx][\"val_accuracy\"].append(logs.get(\"val_accuracy\", 0))"
      ],
      "metadata": {
        "id": "pMSkn-5U22PL"
      },
      "execution_count": null,
      "outputs": []
    },
    {
      "cell_type": "markdown",
      "source": [
        "### Define Model"
      ],
      "metadata": {
        "id": "ZVgUw9va27hQ"
      }
    },
    {
      "cell_type": "code",
      "source": [
        "import tensorflow as tf\n",
        "import keras_tuner as kt\n",
        "from tensorflow.keras import Sequential\n",
        "from tensorflow.keras.layers import Conv1D, MaxPooling1D, Flatten, Dense, Dropout, Input\n",
        "from tensorflow.keras.regularizers import l2\n",
        "\n",
        "class CNNHyperModel(kt.HyperModel):\n",
        "    def build(self, hp):\n",
        "        model = Sequential([\n",
        "            Input(shape=(X_train_normalized.shape[1], X_train_normalized.shape[2])),\n",
        "            Conv1D(\n",
        "                filters=hp.Choice('filters', [16, 32, 64]),\n",
        "                kernel_size=hp.Choice('kernel_size', [3, 5]),\n",
        "                kernel_regularizer=l2(hp.Float('cnn_regularizer', min_value=0.005, max_value=0.05, step=0.005)),\n",
        "                activation='relu'\n",
        "            ),\n",
        "            MaxPooling1D(pool_size=2),\n",
        "            Flatten(),\n",
        "            Dropout(hp.Float('dropout_rate', min_value=0.1, max_value=0.5, step=0.1)),\n",
        "            Dense(\n",
        "                1,\n",
        "                activation=\"sigmoid\",\n",
        "                kernel_regularizer=l2(hp.Float('dense_regularizer', min_value=0.005, max_value=0.05, step=0.005))\n",
        "            )\n",
        "        ])\n",
        "\n",
        "        model.compile(\n",
        "            optimizer=hp.Choice('optimizer', ['adam', 'rmsprop']),\n",
        "            loss=\"binary_crossentropy\",\n",
        "            metrics=[\"accuracy\"]\n",
        "        )\n",
        "\n",
        "        return model\n",
        "\n",
        "    def fit(self, hp, model, *args, **kwargs):\n",
        "        return model.fit(\n",
        "            *args,\n",
        "            batch_size=hp.Choice(\"batch_size\", [32, 64]),\n",
        "            **kwargs,\n",
        "        )\n"
      ],
      "metadata": {
        "id": "C7c4fEex20Vw"
      },
      "execution_count": null,
      "outputs": []
    },
    {
      "cell_type": "code",
      "source": [
        "from tensorflow.keras.callbacks import EarlyStopping, ReduceLROnPlateau\n",
        "\n",
        "# Initiate Keras Tuner (RandomSearch)\n",
        "tuner = kt.BayesianOptimization(\n",
        "    CNNHyperModel(),\n",
        "    objective=[\n",
        "        kt.Objective(\"val_loss\", direction=\"min\"),\n",
        "        kt.Objective(\"val_accuracy\", direction=\"max\")\n",
        "    ],\n",
        "    max_trials=25,\n",
        "    num_initial_points=25,\n",
        "    overwrite=True,\n",
        "    directory=\"keras_tuner_dir\",\n",
        "    project_name=\"cnn_tuning\"\n",
        ")\n",
        "\n",
        "early_stopping = EarlyStopping(monitor=\"val_loss\", patience=3, restore_best_weights=True)\n",
        "lr_reducer = ReduceLROnPlateau(monitor=\"val_loss\", factor=0.5, patience=3, min_lr=1e-5)\n",
        "history_callback = SaveHistory()\n",
        "\n",
        "# Find the best hyperparameter\n",
        "tuner.search(\n",
        "    X_train_normalized, y_train,\n",
        "    validation_data=(X_val_normalized, y_val),\n",
        "    callbacks=[early_stopping, lr_reducer, history_callback],\n",
        "    epochs=80,\n",
        "    verbose=2\n",
        ")"
      ],
      "metadata": {
        "id": "5xn-rvZx3A5G"
      },
      "execution_count": null,
      "outputs": []
    },
    {
      "cell_type": "markdown",
      "source": [
        "## Best Model Data & Plot"
      ],
      "metadata": {
        "id": "l0viCqbF3C0k"
      }
    },
    {
      "cell_type": "markdown",
      "source": [
        "### Base Model"
      ],
      "metadata": {
        "id": "G26mgL9Q3Ilj"
      }
    },
    {
      "cell_type": "code",
      "source": [
        "best_trial = tuner.oracle.get_best_trials(num_trials=1)[0]\n",
        "\n",
        "best_val_acc = best_trial.metrics.get_best_value('val_accuracy')\n",
        "best_val_loss = best_trial.metrics.get_best_value('val_loss')\n",
        "\n",
        "print(\"Best Trial (Hyperparameter Tuning)\")\n",
        "print(f\"Accuracy: {best_val_acc:.4f}\")\n",
        "print(f\"Loss: {best_val_loss:.4f}\")"
      ],
      "metadata": {
        "id": "G_jHEJ-H3GQt"
      },
      "execution_count": null,
      "outputs": []
    },
    {
      "cell_type": "code",
      "source": [
        "# Get the best model\n",
        "best_hps = tuner.get_best_hyperparameters(num_trials=1)[0]\n",
        "best_model = tuner.get_best_models(num_models=1)[0]\n",
        "\n",
        "# Print best hyperparameter\n",
        "print(f\"CNN filters: {best_hps.get('filters')}\")\n",
        "print(f\"CNN kernel_size: {best_hps.get('kernel_size')}\")\n",
        "print(f\"CNN regularizer: {best_hps.get('cnn_regularizer')}\")\n",
        "print(f\"Dense regularizer: {best_hps.get('dense_regularizer')}\")\n",
        "print(f\"Dropout Rate: {best_hps.get('dropout_rate')}\")\n",
        "print(f\"Optimizer: {best_hps.get('optimizer')}\")\n",
        "print(f\"Batch Size: {best_hps.get('batch_size')}\")"
      ],
      "metadata": {
        "id": "yTFdP4aa3LVP"
      },
      "execution_count": null,
      "outputs": []
    },
    {
      "cell_type": "code",
      "source": [
        "import matplotlib.pyplot as plt\n",
        "\n",
        "best_trial_idx = best_trial.trial_id\n",
        "best_trial_idx = int(best_trial_idx)\n",
        "print(best_trial_idx)\n",
        "\n",
        "best_history = all_histories.get(best_trial_idx, None)\n",
        "\n",
        "plt.figure(figsize=(12, 5))\n",
        "\n",
        "# Plot Loss\n",
        "plt.subplot(1, 2, 1)\n",
        "plt.plot(best_history[\"loss\"], label=\"Training Loss\")\n",
        "plt.plot(best_history[\"val_loss\"], label=\"Validation Loss\")\n",
        "plt.xlabel(\"Epochs\")\n",
        "plt.ylabel(\"Loss\")\n",
        "plt.title(\"Training & Validation Loss\")\n",
        "plt.legend()\n",
        "\n",
        "# Plot Accuracy\n",
        "plt.subplot(1, 2, 2)\n",
        "plt.plot(best_history[\"accuracy\"], label=\"Training Accuracy\")\n",
        "plt.plot(best_history[\"val_accuracy\"], label=\"Validation Accuracy\")\n",
        "plt.xlabel(\"Epochs\")\n",
        "plt.ylabel(\"Accuracy\")\n",
        "plt.title(\"Training & Validation Accuracy\")\n",
        "plt.legend()\n",
        "\n",
        "plt.show()\n"
      ],
      "metadata": {
        "id": "Ekh6dYJz3MvR"
      },
      "execution_count": null,
      "outputs": []
    },
    {
      "cell_type": "markdown",
      "source": [
        "### Fine-Tuned Model"
      ],
      "metadata": {
        "id": "8iI2eZw43OmX"
      }
    },
    {
      "cell_type": "code",
      "source": [
        "import tensorflow as tf\n",
        "\n",
        "best_model.compile(\n",
        "    optimizer=tf.keras.optimizers.Adam(learning_rate=5e-5),\n",
        "    loss=\"binary_crossentropy\",\n",
        "    metrics=[\"accuracy\"]\n",
        ")"
      ],
      "metadata": {
        "id": "OOcfxlG53QHj"
      },
      "execution_count": null,
      "outputs": []
    },
    {
      "cell_type": "code",
      "source": [
        "from tensorflow.keras.callbacks import EarlyStopping, ReduceLROnPlateau\n",
        "\n",
        "# Callback to stop training if converged\n",
        "early_stopping_finetune = EarlyStopping(monitor=\"val_loss\", patience=3, restore_best_weights=True)\n",
        "lr_reducer = ReduceLROnPlateau(monitor=\"val_loss\", factor=0.5, patience=3, min_lr=1e-5)\n",
        "\n",
        "# Fine-tune model using validation set\n",
        "history_finetune = best_model.fit(\n",
        "    X_train_normalized, y_train,\n",
        "    validation_data=(X_val_normalized, y_val),\n",
        "    epochs=30,\n",
        "    batch_size=best_hps.get(\"batch_size\"),  # Pakai batch size terbaik dari tuning\n",
        "    callbacks=[early_stopping_finetune, lr_reducer],  # Callback untuk optimasi\n",
        "    verbose=2\n",
        ")\n"
      ],
      "metadata": {
        "id": "cjLKiPur3RjI"
      },
      "execution_count": null,
      "outputs": []
    },
    {
      "cell_type": "code",
      "source": [
        "import matplotlib.pyplot as plt\n",
        "\n",
        "plt.figure(figsize=(12, 5))\n",
        "\n",
        "# Plot Loss\n",
        "plt.subplot(1, 2, 1)\n",
        "plt.plot(history_finetune.history[\"loss\"], label=\"Training Loss\")\n",
        "plt.plot(history_finetune.history[\"val_loss\"], label=\"Validation Loss\")\n",
        "plt.xlabel(\"Epochs\")\n",
        "plt.ylabel(\"Loss\")\n",
        "plt.title(\"Training & Validation Loss (Fine-Tuning)\")\n",
        "plt.legend()\n",
        "\n",
        "# Plot Accuracy\n",
        "plt.subplot(1, 2, 2)\n",
        "plt.plot(history_finetune.history[\"accuracy\"], label=\"Training Accuracy\")\n",
        "plt.plot(history_finetune.history[\"val_accuracy\"], label=\"Validation Accuracy\")\n",
        "plt.xlabel(\"Epochs\")\n",
        "plt.ylabel(\"Accuracy\")\n",
        "plt.title(\"Training & Validation Accuracy (Fine-Tuning)\")\n",
        "plt.legend()\n",
        "\n",
        "plt.show()\n"
      ],
      "metadata": {
        "id": "A9qvDITa3S9r"
      },
      "execution_count": null,
      "outputs": []
    },
    {
      "cell_type": "markdown",
      "source": [
        "## Test And Evaluation"
      ],
      "metadata": {
        "id": "EjZOQgGk3Ukz"
      }
    },
    {
      "cell_type": "markdown",
      "source": [
        "### Primary Test Set"
      ],
      "metadata": {
        "id": "F2f6AjYi3XCz"
      }
    },
    {
      "cell_type": "code",
      "source": [
        "from sklearn.metrics import accuracy_score, classification_report, confusion_matrix\n",
        "import matplotlib.pyplot as plt\n",
        "import seaborn as sns\n",
        "import keras\n",
        "\n",
        "y_pred = best_model.predict(X_test_normalized)\n",
        "y_pred = (y_pred > 0.5).astype(int)\n",
        "\n",
        "accuracy = accuracy_score(y_test, y_pred)\n",
        "report = classification_report(y_test, y_pred, digits=4)\n",
        "\n",
        "print(f\"Accuracy: {accuracy:.4f}\")\n",
        "print(\"Classification Report:\\n\", report)\n",
        "\n",
        "matrix = confusion_matrix(y_test, y_pred)\n",
        "\n",
        "# Transform to dataframe for easier plotting\n",
        "matrix_df = pd.DataFrame(matrix,\n",
        "                        index=['human', 'AI'],\n",
        "                        columns=['human', 'AI'])\n",
        "\n",
        "# Print Confusion Matrix\n",
        "plt.figure(figsize=(3,3))\n",
        "plt.title(\"Confusion Matrix\")\n",
        "sns.heatmap(matrix_df, annot=True, fmt='d', cmap='Blues', cbar=False)\n",
        "plt.xlabel(\"Predicted\")\n",
        "plt.ylabel(\"Actual\")\n",
        "plt.show()"
      ],
      "metadata": {
        "id": "jQ24MeAs3WG5"
      },
      "execution_count": null,
      "outputs": []
    },
    {
      "cell_type": "code",
      "source": [
        "# Save trained CNN model\n",
        "best_model.save('cnn_best_model.keras')"
      ],
      "metadata": {
        "id": "0cdcBWCK3Yz2"
      },
      "execution_count": null,
      "outputs": []
    },
    {
      "cell_type": "markdown",
      "source": [
        "### Auxiliary Test Set"
      ],
      "metadata": {
        "id": "eNWeu0_P3cam"
      }
    },
    {
      "cell_type": "code",
      "source": [
        "from sklearn.metrics import accuracy_score, classification_report, confusion_matrix\n",
        "import matplotlib.pyplot as plt\n",
        "import seaborn as sns\n",
        "import keras\n",
        "\n",
        "data = pd.read_csv(\"repeated_test.csv\")\n",
        "X_full_test = data.drop(columns=[\"is_ai\"])\n",
        "y_full_test = data[\"is_ai\"]\n",
        "\n",
        "# Fit dan transform test set\n",
        "X_full_test_normalized = scaler.transform(X_full_test)\n",
        "\n",
        "num_features_per_segment = 9  # Pitch (3) + Velocity (3) + Duration (3)\n",
        "num_segments = X_full_test.shape[1] // num_features_per_segment\n",
        "\n",
        "# Reshape to 3D\n",
        "X_full_test_normalized = X_full_test_normalized.reshape(X_full_test_normalized.shape[0], num_segments, num_features_per_segment)\n",
        "\n",
        "y_pred = best_model.predict(X_full_test_normalized)\n",
        "y_pred = (y_pred > 0.5).astype(int)\n",
        "\n",
        "accuracy = accuracy_score(y_full_test, y_pred)\n",
        "report = classification_report(y_full_test, y_pred, digits=4)\n",
        "\n",
        "print(f\"Accuracy: {accuracy:.4f}\")\n",
        "print(\"Classification Report:\\n\", report)\n",
        "\n",
        "matrix = confusion_matrix(y_full_test, y_pred)\n",
        "\n",
        "# Transform to dataframe for easier plotting\n",
        "matrix_df = pd.DataFrame(matrix,\n",
        "                        index=['human', 'AI'],\n",
        "                        columns=['human', 'AI'])\n",
        "\n",
        "# Print Confusion Matrix\n",
        "plt.figure(figsize=(3,3))\n",
        "plt.title(\"Confusion Matrix\")\n",
        "sns.heatmap(matrix_df, annot=True, fmt='d', cmap='Blues', cbar=False)\n",
        "plt.xlabel(\"Predicted\")\n",
        "plt.ylabel(\"Actual\")\n",
        "plt.show()"
      ],
      "metadata": {
        "id": "YNyCprsn3eNK"
      },
      "execution_count": null,
      "outputs": []
    }
  ],
  "metadata": {
    "language_info": {
      "name": "python"
    },
    "colab": {
      "provenance": [],
      "toc_visible": true
    }
  },
  "nbformat": 4,
  "nbformat_minor": 0
}