{
  "cells": [
    {
      "cell_type": "markdown",
      "metadata": {
        "id": "view-in-github",
        "colab_type": "text"
      },
      "source": [
        "<a href=\"https://colab.research.google.com/github/maecyntha/ai-classical-music-detector/blob/main/notebooks/02_lstm_ai_music_detector.ipynb\" target=\"_parent\"><img src=\"https://colab.research.google.com/assets/colab-badge.svg\" alt=\"Open In Colab\"/></a>"
      ]
    },
    {
      "cell_type": "code",
      "execution_count": null,
      "metadata": {
        "id": "Kco6S3Mr0IHP"
      },
      "outputs": [],
      "source": [
        "!pip install keras_tuner"
      ]
    },
    {
      "cell_type": "markdown",
      "source": [
        "## Data Pre-Processing"
      ],
      "metadata": {
        "id": "jtUoTW-80fyd"
      }
    },
    {
      "cell_type": "code",
      "source": [
        "import pandas as pd\n",
        "from sklearn.model_selection import train_test_split\n",
        "\n",
        "# Load dataset\n",
        "data = pd.read_csv(\"repeated.csv\")\n",
        "X = data.drop(columns=[\"is_ai\"])\n",
        "y = data[\"is_ai\"]\n",
        "\n",
        "# Split data\n",
        "X_train, X_temp, y_train, y_temp = train_test_split(X, y, test_size=0.3, random_state=42)\n",
        "X_val, X_test, y_val, y_test = train_test_split(X_temp, y_temp, test_size=1/3, random_state=42)\n",
        "\n",
        "print(f\"Train: {X_train.shape}, Validation: {X_val.shape}, Test: {X_test.shape}\")"
      ],
      "metadata": {
        "id": "3UkCpGZD0P1y"
      },
      "execution_count": null,
      "outputs": []
    },
    {
      "cell_type": "code",
      "source": [
        "from sklearn.preprocessing import StandardScaler\n",
        "import numpy as np\n",
        "\n",
        "# Avoid warnings\n",
        "non_constant_features = np.std(X_train, axis=0) > 0\n",
        "non_constant_features = non_constant_features.to_numpy()\n",
        "\n",
        "# Check if X_train is Pandas DataFrame\n",
        "if isinstance(X_train, pd.DataFrame):\n",
        "    X_train_selected = X_train.iloc[:, non_constant_features]\n",
        "    X_val_selected = X_val.iloc[:, non_constant_features]\n",
        "    X_test_selected = X_test.iloc[:, non_constant_features]\n",
        "else:\n",
        "    X_train_selected = X_train[:, non_constant_features]\n",
        "    X_val_selected = X_val[:, non_constant_features]\n",
        "    X_test_selected = X_test[:, non_constant_features]\n",
        "\n",
        "# Only Normalize on feature with variation\n",
        "scaler = StandardScaler()\n",
        "\n",
        "X_train_normalized = scaler.fit_transform(X_train_selected)\n",
        "X_val_normalized = scaler.transform(X_val_selected)\n",
        "X_test_normalized = scaler.transform(X_test_selected)\n",
        "\n",
        "num_features_per_segment = 9  # Pitch (3) + Velocity (3) + Duration (3)\n",
        "num_segments = X_train_normalized.shape[1] // num_features_per_segment\n",
        "\n",
        "# Reshape to 3D shape\n",
        "X_train_normalized = X_train_normalized.reshape(X_train_normalized.shape[0], num_segments, num_features_per_segment)\n",
        "X_val_normalized = X_val_normalized.reshape(X_val_normalized.shape[0], num_segments, num_features_per_segment)\n",
        "X_test_normalized = X_test_normalized.reshape(X_test_normalized.shape[0], num_segments, num_features_per_segment)"
      ],
      "metadata": {
        "id": "1jBS1kWE0kJm"
      },
      "execution_count": null,
      "outputs": []
    },
    {
      "cell_type": "markdown",
      "source": [
        "## Model Training"
      ],
      "metadata": {
        "id": "vKBKa-GB0thw"
      }
    },
    {
      "cell_type": "markdown",
      "source": [
        "### History Logger"
      ],
      "metadata": {
        "id": "6T2LkSlZ02_c"
      }
    },
    {
      "cell_type": "code",
      "source": [
        "from tensorflow.keras.callbacks import Callback\n",
        "\n",
        "all_histories = {}\n",
        "trial_idx = -1\n",
        "\n",
        "class SaveHistory(Callback):\n",
        "    def on_train_begin(self, logs=None):\n",
        "        global trial_idx\n",
        "        trial_idx += 1\n",
        "\n",
        "        all_histories[trial_idx] = {\n",
        "            \"loss\": [], \"val_loss\": [], \"accuracy\": [], \"val_accuracy\": []\n",
        "        }\n",
        "\n",
        "    def on_epoch_end(self, epoch, logs=None):\n",
        "        logs = logs or {}\n",
        "\n",
        "        all_histories[trial_idx][\"loss\"].append(logs.get(\"loss\", 0))\n",
        "        all_histories[trial_idx][\"val_loss\"].append(logs.get(\"val_loss\", 0))\n",
        "        all_histories[trial_idx][\"accuracy\"].append(logs.get(\"accuracy\", 0))\n",
        "        all_histories[trial_idx][\"val_accuracy\"].append(logs.get(\"val_accuracy\", 0))"
      ],
      "metadata": {
        "id": "95H6c0Jx04kU"
      },
      "execution_count": null,
      "outputs": []
    },
    {
      "cell_type": "markdown",
      "source": [
        "### Define Model"
      ],
      "metadata": {
        "id": "TnCfrnH01DrY"
      }
    },
    {
      "cell_type": "code",
      "source": [
        "import tensorflow as tf\n",
        "import keras_tuner as kt\n",
        "from tensorflow.keras import Sequential\n",
        "from tensorflow.keras.layers import LSTM, Dense, Dropout, Bidirectional, Input, Masking\n",
        "from tensorflow.keras.regularizers import l2\n",
        "\n",
        "class LSTMHyperModel(kt.HyperModel):\n",
        "  def build(self, hp):\n",
        "    model = Sequential([\n",
        "      Input(shape=(X_train_normalized.shape[1], X_train_normalized.shape[2])),\n",
        "      LSTM(\n",
        "          units=hp.Choice('lstm_units', [16, 32, 64]),\n",
        "          kernel_regularizer=l2(hp.Float('lstm_regularizer', min_value=0.005, max_value=0.05, step=0.005))\n",
        "      ),\n",
        "      Dropout(hp.Float('dropout_rate', min_value=0.1, max_value=0.5, step=0.1)),\n",
        "      Dense(\n",
        "          1,\n",
        "          activation=\"sigmoid\",\n",
        "          kernel_regularizer=l2(hp.Float('dense_regularizer', min_value=0.005, max_value=0.05, step=0.005))\n",
        "      )\n",
        "    ])\n",
        "\n",
        "    model.compile(\n",
        "      optimizer=hp.Choice('optimizer', ['adam', 'rmsprop']),\n",
        "      loss=\"binary_crossentropy\",\n",
        "      metrics=[\"accuracy\"]\n",
        "    )\n",
        "\n",
        "    return model\n",
        "\n",
        "  def fit(self, hp, model, *args, **kwargs):\n",
        "    return model.fit(\n",
        "        *args,\n",
        "        batch_size=hp.Choice(\"batch_size\", [32, 64]),\n",
        "        **kwargs,\n",
        "    )"
      ],
      "metadata": {
        "id": "YlqJawtA0vC7"
      },
      "execution_count": null,
      "outputs": []
    },
    {
      "cell_type": "code",
      "source": [
        "from tensorflow.keras.callbacks import EarlyStopping, ReduceLROnPlateau\n",
        "\n",
        "# Initiate Keras Tuner (RandomSearch)\n",
        "tuner = kt.BayesianOptimization(\n",
        "    LSTMHyperModel(),\n",
        "    objective=[\n",
        "        kt.Objective(\"val_loss\", direction=\"min\"),\n",
        "        kt.Objective(\"val_accuracy\", direction=\"max\")\n",
        "    ],\n",
        "    max_trials=25,\n",
        "    num_initial_points=25,\n",
        "    overwrite=True,\n",
        "    directory=\"keras_tuner_dir\",\n",
        "    project_name=\"lstm_tuning\"\n",
        ")\n",
        "\n",
        "early_stopping = EarlyStopping(monitor=\"val_loss\", patience=3, restore_best_weights=True)\n",
        "lr_reducer = ReduceLROnPlateau(monitor=\"val_loss\", factor=0.5, patience=3, min_lr=1e-5)\n",
        "history_callback = SaveHistory()\n",
        "\n",
        "# Find best hyperparameter\n",
        "tuner.search(\n",
        "    X_train_normalized, y_train,\n",
        "    validation_data=(X_val_normalized, y_val),\n",
        "    callbacks=[early_stopping, lr_reducer, history_callback],\n",
        "    epochs=80,\n",
        "    verbose=2\n",
        ")"
      ],
      "metadata": {
        "id": "9EvHxtpu1BpS"
      },
      "execution_count": null,
      "outputs": []
    },
    {
      "cell_type": "markdown",
      "source": [
        "## Best Model Data & Plot"
      ],
      "metadata": {
        "id": "YdqjvWXQ1JFz"
      }
    },
    {
      "cell_type": "markdown",
      "source": [
        "### Base Model"
      ],
      "metadata": {
        "id": "8OzIPRMg1XCe"
      }
    },
    {
      "cell_type": "code",
      "source": [
        "best_trial = tuner.oracle.get_best_trials(num_trials=1)[0]\n",
        "\n",
        "best_val_acc = best_trial.metrics.get_best_value('val_accuracy')\n",
        "best_val_loss = best_trial.metrics.get_best_value('val_loss')\n",
        "\n",
        "print(\"Best Trial (Hyperparameter Tuning)\")\n",
        "print(f\"Accuracy: {best_val_acc:.4f}\")\n",
        "print(f\"Loss: {best_val_loss:.4f}\")"
      ],
      "metadata": {
        "id": "QQgrXcjV1MN2"
      },
      "execution_count": null,
      "outputs": []
    },
    {
      "cell_type": "code",
      "source": [
        "# Get the best model\n",
        "best_hps = tuner.get_best_hyperparameters(num_trials=1)[0]\n",
        "best_model = tuner.get_best_models(num_models=1)[0]\n",
        "\n",
        "# Print best hyperparameter\n",
        "print(f\"LSTM Units: {best_hps.get('lstm_units')}\")\n",
        "print(f\"LSTM Regularizer: {best_hps.get('lstm_regularizer')}\")\n",
        "print(f\"Dropout Rate: {best_hps.get('dropout_rate')}\")\n",
        "print(f\"Dense Regularizer: {best_hps.get('dense_regularizer')}\")\n",
        "print(f\"Optimizer: {best_hps.get('optimizer')}\")\n",
        "print(f\"Batch Size: {best_hps.get('batch_size')}\")"
      ],
      "metadata": {
        "id": "WEm6uW7o1OnQ"
      },
      "execution_count": null,
      "outputs": []
    },
    {
      "cell_type": "code",
      "source": [
        "import matplotlib.pyplot as plt\n",
        "\n",
        "best_trial_idx = best_trial.trial_id\n",
        "best_trial_idx = int(best_trial_idx)\n",
        "print(best_trial_idx)\n",
        "\n",
        "best_history = all_histories.get(best_trial_idx, None)\n",
        "\n",
        "plt.figure(figsize=(12, 5))\n",
        "\n",
        "# Plot Loss\n",
        "plt.subplot(1, 2, 1)\n",
        "plt.plot(best_history[\"loss\"], label=\"Training Loss\")\n",
        "plt.plot(best_history[\"val_loss\"], label=\"Validation Loss\")\n",
        "plt.xlabel(\"Epochs\")\n",
        "plt.ylabel(\"Loss\")\n",
        "plt.title(\"Training & Validation Loss\")\n",
        "plt.legend()\n",
        "\n",
        "# Plot Accuracy\n",
        "plt.subplot(1, 2, 2)\n",
        "plt.plot(best_history[\"accuracy\"], label=\"Training Accuracy\")\n",
        "plt.plot(best_history[\"val_accuracy\"], label=\"Validation Accuracy\")\n",
        "plt.xlabel(\"Epochs\")\n",
        "plt.ylabel(\"Accuracy\")\n",
        "plt.title(\"Training & Validation Accuracy\")\n",
        "plt.legend()\n",
        "\n",
        "plt.show()\n"
      ],
      "metadata": {
        "id": "Z3GVOgdF1QBJ"
      },
      "execution_count": null,
      "outputs": []
    },
    {
      "cell_type": "markdown",
      "source": [
        "### Fine-Tuned Model"
      ],
      "metadata": {
        "id": "BOPwqon31ZZB"
      }
    },
    {
      "cell_type": "code",
      "source": [
        "import tensorflow as tf\n",
        "\n",
        "best_model.compile(\n",
        "    optimizer=tf.keras.optimizers.Adam(learning_rate=5e-5),\n",
        "    loss=\"binary_crossentropy\",\n",
        "    metrics=[\"accuracy\"]\n",
        ")"
      ],
      "metadata": {
        "id": "v_lXzE3x1bX8"
      },
      "execution_count": null,
      "outputs": []
    },
    {
      "cell_type": "code",
      "source": [
        "from tensorflow.keras.callbacks import EarlyStopping, ReduceLROnPlateau\n",
        "\n",
        "# Callback to stop training if converged\n",
        "early_stopping_finetune = EarlyStopping(monitor=\"val_loss\", patience=3, restore_best_weights=True)\n",
        "lr_reducer = ReduceLROnPlateau(monitor=\"val_loss\", factor=0.5, patience=3, min_lr=1e-5)\n",
        "\n",
        "# Fine-tune model using validation set\n",
        "history_finetune = best_model.fit(\n",
        "    X_train_normalized, y_train,\n",
        "    validation_data=(X_val_normalized, y_val),\n",
        "    epochs=30,\n",
        "    batch_size=best_hps.get(\"batch_size\"),\n",
        "    callbacks=[early_stopping_finetune, lr_reducer],\n",
        "    verbose=2\n",
        ")\n"
      ],
      "metadata": {
        "id": "Fz_4LdZK1b_X"
      },
      "execution_count": null,
      "outputs": []
    },
    {
      "cell_type": "code",
      "source": [
        "import matplotlib.pyplot as plt\n",
        "\n",
        "plt.figure(figsize=(12, 5))\n",
        "\n",
        "# Plot Loss\n",
        "plt.subplot(1, 2, 1)\n",
        "plt.plot(history_finetune.history[\"loss\"], label=\"Training Loss\")\n",
        "plt.plot(history_finetune.history[\"val_loss\"], label=\"Validation Loss\")\n",
        "plt.xlabel(\"Epochs\")\n",
        "plt.ylabel(\"Loss\")\n",
        "plt.title(\"Training & Validation Loss (Fine-Tuning)\")\n",
        "plt.legend()\n",
        "\n",
        "# Plot Accuracy\n",
        "plt.subplot(1, 2, 2)\n",
        "plt.plot(history_finetune.history[\"accuracy\"], label=\"Training Accuracy\")\n",
        "plt.plot(history_finetune.history[\"val_accuracy\"], label=\"Validation Accuracy\")\n",
        "plt.xlabel(\"Epochs\")\n",
        "plt.ylabel(\"Accuracy\")\n",
        "plt.title(\"Training & Validation Accuracy (Fine-Tuning)\")\n",
        "plt.legend()\n",
        "\n",
        "plt.show()\n"
      ],
      "metadata": {
        "id": "hmb0Sv4k1eOR"
      },
      "execution_count": null,
      "outputs": []
    },
    {
      "cell_type": "markdown",
      "source": [
        "## Test And Evaluation"
      ],
      "metadata": {
        "id": "qvbM2Q6z1gI8"
      }
    },
    {
      "cell_type": "markdown",
      "source": [
        "### Primary Test Set"
      ],
      "metadata": {
        "id": "_7BD3P8T1m-1"
      }
    },
    {
      "cell_type": "code",
      "source": [
        "from sklearn.metrics import accuracy_score, classification_report, confusion_matrix\n",
        "import matplotlib.pyplot as plt\n",
        "import seaborn as sns\n",
        "import keras\n",
        "\n",
        "y_pred = best_model.predict(X_test_normalized)\n",
        "y_pred = (y_pred > 0.5).astype(int)\n",
        "\n",
        "accuracy = accuracy_score(y_test, y_pred)\n",
        "report = classification_report(y_test, y_pred, digits=4)\n",
        "\n",
        "print(f\"Accuracy: {accuracy:.4f}\")\n",
        "print(\"Classification Report:\\n\", report)\n",
        "\n",
        "matrix = confusion_matrix(y_test, y_pred)\n",
        "\n",
        "# Transform to dataframe for easier plotting\n",
        "matrix_df = pd.DataFrame(matrix,\n",
        "                        index=['human', 'AI'],\n",
        "                        columns=['human', 'AI'])\n",
        "\n",
        "# Print Confusion Matrix\n",
        "plt.figure(figsize=(3,3))\n",
        "plt.title(\"Confusion Matrix\")\n",
        "sns.heatmap(matrix_df, annot=True, fmt='d', cmap='Blues', cbar=False)\n",
        "plt.xlabel(\"Predicted\")\n",
        "plt.ylabel(\"Actual\")\n",
        "plt.show()"
      ],
      "metadata": {
        "id": "J_Dq8F7q1lBV"
      },
      "execution_count": null,
      "outputs": []
    },
    {
      "cell_type": "code",
      "source": [
        "# Save trained LSTM model\n",
        "best_model.save('lstm_best_model.keras')"
      ],
      "metadata": {
        "id": "0Ur4nMAt1pr3"
      },
      "execution_count": null,
      "outputs": []
    },
    {
      "cell_type": "markdown",
      "source": [
        "### Auxiliary Test Set"
      ],
      "metadata": {
        "id": "Bb32g0Xm1vO5"
      }
    },
    {
      "cell_type": "code",
      "source": [
        "from sklearn.metrics import accuracy_score, classification_report, confusion_matrix\n",
        "import matplotlib.pyplot as plt\n",
        "import seaborn as sns\n",
        "import keras\n",
        "\n",
        "data = pd.read_csv(\"repeated_test.csv\")\n",
        "X_full_test = data.drop(columns=[\"is_ai\"])\n",
        "y_full_test = data[\"is_ai\"]\n",
        "\n",
        "# Fit dan transform pada data uji\n",
        "X_full_test_normalized = scaler.transform(X_full_test)\n",
        "\n",
        "num_features_per_segment = 9  # Pitch (3) + Velocity (3) + Duration (3)\n",
        "num_segments = X_full_test.shape[1] // num_features_per_segment\n",
        "\n",
        "# Reshape to 3D shape\n",
        "X_full_test_normalized = X_full_test_normalized.reshape(X_full_test_normalized.shape[0], num_segments, num_features_per_segment)\n",
        "\n",
        "y_pred = best_model.predict(X_full_test_normalized)\n",
        "y_pred = (y_pred > 0.5).astype(int)\n",
        "\n",
        "accuracy = accuracy_score(y_full_test, y_pred)\n",
        "report = classification_report(y_full_test, y_pred, digits=4)\n",
        "\n",
        "print(f\"Accuracy: {accuracy:.4f}\")\n",
        "print(\"Classification Report:\\n\", report)\n",
        "\n",
        "matrix = confusion_matrix(y_full_test, y_pred)\n",
        "\n",
        "# Transform to dataframe for easier plotting\n",
        "matrix_df = pd.DataFrame(matrix,\n",
        "                        index=['human', 'AI'],\n",
        "                        columns=['human', 'AI'])\n",
        "\n",
        "# Print Confusion Matrix\n",
        "plt.figure(figsize=(3,3))\n",
        "plt.title(\"Confusion Matrix\")\n",
        "sns.heatmap(matrix_df, annot=True, fmt='d', cmap='Blues', cbar=False)\n",
        "plt.xlabel(\"Predicted\")\n",
        "plt.ylabel(\"Actual\")\n",
        "plt.show()"
      ],
      "metadata": {
        "id": "nyhsXtGb1yRT"
      },
      "execution_count": null,
      "outputs": []
    }
  ],
  "metadata": {
    "language_info": {
      "name": "python"
    },
    "colab": {
      "provenance": [],
      "toc_visible": true,
      "include_colab_link": true
    }
  },
  "nbformat": 4,
  "nbformat_minor": 0
}